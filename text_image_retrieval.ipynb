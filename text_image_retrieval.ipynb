{
  "nbformat": 4,
  "nbformat_minor": 0,
  "metadata": {
    "colab": {
      "provenance": []
    },
    "kernelspec": {
      "name": "python3",
      "display_name": "Python 3"
    },
    "language_info": {
      "name": "python"
    }
  },
  "cells": [
    {
      "cell_type": "code",
      "execution_count": null,
      "metadata": {
        "id": "7rgcs8MOo2_w"
      },
      "outputs": [],
      "source": [
        "import os\n",
        "import re\n",
        "import sys\n",
        "import torch\n",
        "import torch.nn.functional as F\n",
        "from PIL import Image\n",
        "import matplotlib.pyplot as plt\n",
        "import matplotlib.image as mpimg\n",
        "import requests\n",
        "import glob\n",
        "import pickle\n",
        "import pandas as pd"
      ]
    },
    {
      "cell_type": "markdown",
      "source": [
        "### CLIP installation & import"
      ],
      "metadata": {
        "id": "SEoOzhq8pm-8"
      }
    },
    {
      "cell_type": "code",
      "source": [
        "!pip install ftfy regex tqdm\n",
        "!pip install git+https://github.com/openai/CLIP.git\n",
        "import clip"
      ],
      "metadata": {
        "id": "a5Dcf4gZpluP"
      },
      "execution_count": null,
      "outputs": []
    },
    {
      "cell_type": "markdown",
      "source": [
        "### ALIGN installation & import"
      ],
      "metadata": {
        "id": "EgGnHd3pp9Cx"
      }
    },
    {
      "cell_type": "code",
      "source": [
        "from transformers import AlignProcessor, AlignModel"
      ],
      "metadata": {
        "id": "v-DCp5bhqA4i"
      },
      "execution_count": null,
      "outputs": []
    },
    {
      "cell_type": "markdown",
      "source": [
        "### BLIP-2 installation & import"
      ],
      "metadata": {
        "id": "PJ1hr51iqOLE"
      }
    },
    {
      "cell_type": "code",
      "source": [
        "!pip install salesforce-lavis\n",
        "from lavis.models import load_model_and_preprocess"
      ],
      "metadata": {
        "id": "AXPSCpPNqVfx"
      },
      "execution_count": null,
      "outputs": []
    },
    {
      "cell_type": "markdown",
      "source": [
        "## Abstract class Retriever\n"
      ],
      "metadata": {
        "id": "UG5mKOwvqnbi"
      }
    },
    {
      "cell_type": "code",
      "source": [
        "class Retriever:\n",
        "    def __init__(self) -> None:\n",
        "        self.device = \"cuda\" if torch.cuda.is_available() else \"cpu\"\n",
        "        self.image_IDs = []\n",
        "        self.image_encodings = None\n",
        "\n",
        "    def encode_images(self, images_paths ,out_dir=None, batch_size=50):\n",
        "        pass\n",
        "\n",
        "    def encode_text(self, text):\n",
        "        pass\n",
        "\n",
        "    def compare_to_images(self, text):  # Returns a sorted list of tuples (cosine_similarity, Image_ID)\n",
        "        text_encoding = self.encode_text(text).T\n",
        "        cosine_similarities = torch.mm(self.image_encodings, text_encoding)\n",
        "        return sorted(zip(cosine_similarities.tolist(),self.image_IDs),reverse=True)\n",
        "\n",
        "    def load_encoded_images(self, directory, model_name):\n",
        "        # Load tensor from file\n",
        "        self.image_encodings = torch.load(directory + f'/{model_name}_image_encodings.pth')\n",
        "        # Load list from file\n",
        "        with open(directory + f'/{model_name}_images_IDs.pkl', 'rb') as f:\n",
        "            self.image_IDs = pickle.load(f)\n",
        "\n",
        "    def plot_top_images(self, sorted_list, n, querry):\n",
        "        # Create subplots\n",
        "        fig, axes = plt.subplots(1, n, figsize=(15, 5))\n",
        "\n",
        "        plt.suptitle(\"Querry: '\" + querry + \"'\", x=0.1, y=0.95, fontsize=16, ha='left')\n",
        "        # Display the top n images\n",
        "        for i in range(min(len(sorted_list), n)):\n",
        "            _, image_path = sorted_list[i]\n",
        "            image_path =  image_path\n",
        "            try:\n",
        "                # Display the image using matplotlib.image\n",
        "                img = mpimg.imread(image_path)\n",
        "                axes[i].imshow(img)\n",
        "                axes[i].axis('off')\n",
        "                axes[i].set_title(f\"Similarity: {round(sorted_list[i][0],4)}\")\n",
        "            except Exception as e:\n",
        "                print(f\"Error displaying image {image_path}: {e}\")\n",
        "\n",
        "        plt.tight_layout()\n",
        "        plt.show()"
      ],
      "metadata": {
        "id": "RnglMRG_quCZ"
      },
      "execution_count": null,
      "outputs": []
    },
    {
      "cell_type": "code",
      "source": [
        "class CLIPRetriever(Retriever):\n",
        "    def __init__(self) -> None:\n",
        "        super().__init__()\n",
        "        self.model, self.preprocess = clip.load(\"ViT-B/32\", device=self.device)\n",
        "\n",
        "    def encode_images(self, images_paths ,out_dir=None, batch_size=50):\n",
        "        batches  = [images_paths[i:i+batch_size] for i in range(0, len(images_paths), batch_size)]\n",
        "        self.image_IDs = []\n",
        "        self.image_encodings = None\n",
        "        for batch in batches:\n",
        "            images = []\n",
        "\n",
        "            # Preprocess Images\n",
        "            for image_name in batch:\n",
        "                images.append(Image.open(image_name))\n",
        "                self.image_IDs.append(image_name)\n",
        "\n",
        "            preprocessed_images = []\n",
        "            for image in images:\n",
        "                image_input = self.preprocess(image).unsqueeze(0).to(self.device)\n",
        "                preprocessed_images.append(image_input)\n",
        "            preprocessed_images = torch.cat(preprocessed_images)\n",
        "            del images\n",
        "\n",
        "            # Encode Images\n",
        "            with torch.no_grad():\n",
        "                if self.image_encodings is None:\n",
        "                    self.image_encodings = self.model.encode_image(preprocessed_images)\n",
        "                else:\n",
        "                    self.image_encodings = torch.cat((self.image_encodings, self.model.encode_image(preprocessed_images)), dim=0)\n",
        "\n",
        "        self.image_encodings = F.normalize(self.image_encodings, p=2, dim=-1)\n",
        "        # Save if out_dir specified\n",
        "        if out_dir is not None and self.image_encodings is not None:\n",
        "            torch.save(self.image_encodings, out_dir + '/CLIP_image_encodings.pth')\n",
        "            with open(out_dir + '/CLIP_images_IDs.pkl', 'wb') as f:\n",
        "                pickle.dump(self.image_IDs, f)\n",
        "\n",
        "    def encode_text(self, text):\n",
        "        # Preprocess text\n",
        "        text = clip.tokenize(text).to(self.device)\n",
        "\n",
        "        # Encode text\n",
        "        with torch.no_grad():\n",
        "            encoded_text = self.model.encode_text(text)\n",
        "        return encoded_text"
      ],
      "metadata": {
        "id": "NAgiMY5xq3Wb"
      },
      "execution_count": null,
      "outputs": []
    },
    {
      "cell_type": "code",
      "source": [
        "class ALIGNRetriever(Retriever):\n",
        "    def __init__(self) -> None:\n",
        "        super().__init__()\n",
        "        self.preprocess = AlignProcessor.from_pretrained(\"kakaobrain/align-base\")\n",
        "        self.model = AlignModel.from_pretrained(\"kakaobrain/align-base\")\n",
        "\n",
        "    def encode_images(self, images_paths ,out_dir=None, batch_size=50):\n",
        "        batches  = [images_paths[i:i+batch_size] for i in range(0, len(images_paths), batch_size)]\n",
        "        self.image_IDs = []\n",
        "        self.image_encodings = None\n",
        "        for batch in batches:\n",
        "            images = []\n",
        "\n",
        "            # Preprocess Images\n",
        "            for image_name in batch:\n",
        "                images.append(Image.open(image_name))\n",
        "                self.image_IDs.append(image_name)\n",
        "\n",
        "            preprocessed_input = self.preprocess(text=\"\",images=images, return_tensors=\"pt\")\n",
        "            del images\n",
        "\n",
        "            # Encode Images\n",
        "            with torch.no_grad():\n",
        "                outputs = self.model(**preprocessed_input)\n",
        "                if self.image_encodings is None:\n",
        "                    self.image_encodings = outputs.image_embeds\n",
        "                else:\n",
        "                    self.image_encodings = torch.cat((self.image_encodings, outputs.image_embeds), dim=0)\n",
        "\n",
        "        self.image_encodings = F.normalize(self.image_encodings, p=2, dim=-1)\n",
        "        # Save if out_dir specified\n",
        "        if out_dir is not None and self.image_encodings is not None:\n",
        "            torch.save(self.image_encodings, out_dir + '/ALIGN_image_encodings.pth')\n",
        "            with open(out_dir + '/ALIGN_images_IDs.pkl', 'wb') as f:\n",
        "                pickle.dump(self.image_IDs, f)\n",
        "\n",
        "    def encode_text(self, text):\n",
        "        # Preprocess text\n",
        "        there_must_be_picture = Image.open(requests.get(\"http://images.cocodataset.org/val2017/000000039769.jpg\", stream=True).raw)  # I don't like it either\n",
        "        preprocessed_input = self.preprocess(text=text,images=there_must_be_picture, return_tensors=\"pt\")\n",
        "\n",
        "        # Encode text\n",
        "        outputs = self.model(**preprocessed_input)\n",
        "        return outputs.text_embeds"
      ],
      "metadata": {
        "id": "Emfd2cAXroja"
      },
      "execution_count": null,
      "outputs": []
    },
    {
      "cell_type": "code",
      "source": [
        "class BLIP2Retriever(Retriever):\n",
        "    def __init__(self) -> None:\n",
        "        super().__init__()\n",
        "        self.model, self.vis_processors, self.txt_processors = load_model_and_preprocess(name=\"blip2_feature_extractor\", model_type=\"pretrain_vitL\", is_eval=True, device=self.device)\n",
        "\n",
        "    def encode_images(self, images_paths, out_dir=None, batch_size=50):\n",
        "        batches  = [images_paths[i:i+batch_size] for i in range(0, len(images_paths), batch_size)]\n",
        "        self.image_IDs = []\n",
        "        self.image_encodings = None\n",
        "        for batch in batches:\n",
        "            images = []\n",
        "\n",
        "            # Preprocess Images\n",
        "            for image_name in batch:\n",
        "                images.append(Image.open(image_name).convert('RGB'))\n",
        "                self.image_IDs.append(image_name)\n",
        "\n",
        "            preprocessed_images = []\n",
        "            for image in images:\n",
        "                image_input = self.vis_processors[\"eval\"](image).unsqueeze(0).to(self.device)\n",
        "                preprocessed_images.append(image_input)\n",
        "            preprocessed_images = torch.cat(preprocessed_images)\n",
        "            del images\n",
        "\n",
        "            # Build sample\n",
        "            sample = {\"image\": preprocessed_images, \"text_input\": []}\n",
        "\n",
        "            # Encode Images\n",
        "            new_encodings = self.model.extract_features(sample, mode=\"image\").image_embeds[:,0,:]\n",
        "            if self.image_encodings is None:\n",
        "                self.image_encodings = new_encodings\n",
        "            else:\n",
        "                self.image_encodings = torch.cat((self.image_encodings, new_encodings), dim=0)\n",
        "\n",
        "            self.image_encodings = F.normalize(self.image_encodings, p=2, dim=-1)\n",
        "            # Save if out_dir specified\n",
        "            if out_dir is not None and self.image_encodings is not None:\n",
        "                torch.save(self.image_encodings, out_dir + '/BLIP2_image_encodings.pth')\n",
        "                with open(out_dir + '/BLIP2_images_IDs.pkl', 'wb') as f:\n",
        "                    pickle.dump(self.image_IDs, f)\n",
        "\n",
        "    def encode_text(self, text):\n",
        "        # Preprocess text\n",
        "        text = self.txt_processors[\"eval\"](text)\n",
        "\n",
        "        # Build sample\n",
        "        sample = {\"image\": torch.randn(1, 3, 50, 50), \"text_input\": [text]}\n",
        "\n",
        "        # Encode text\n",
        "        encoded_text = self.model.extract_features(sample, mode=\"text\").text_embeds[0,0,:]\n",
        "        encoded_text = torch.unsqueeze(encoded_text, dim=0)\n",
        "        return encoded_text\n"
      ],
      "metadata": {
        "id": "zSs6o5Hhrvqo"
      },
      "execution_count": null,
      "outputs": []
    },
    {
      "cell_type": "code",
      "source": [
        "def list_files(directory):\n",
        "    return glob.glob(os.path.join(directory, \"*.jpeg\")) + glob.glob(os.path.join(directory, \"*.jpg\")) + glob.glob(os.path.join(directory, \"*.png\")) + glob.glob(os.path.join(directory, \"*.JPG\")) + glob.glob(os.path.join(directory, \"*.JPEG\"))\n",
        "\n",
        "def find_rank(list_of_tuples, ID):\n",
        "    for index, (cosine_similarity, Image_ID) in enumerate(list_of_tuples):\n",
        "        if Image_ID.endswith(ID):\n",
        "            return index\n",
        "    return -1  # Return -1 if ID not found in any Image_ID"
      ],
      "metadata": {
        "id": "vrHGJzChs_2m"
      },
      "execution_count": null,
      "outputs": []
    },
    {
      "cell_type": "code",
      "source": [
        "# from google.colab import drive\n",
        "# drive.mount('/content/drive')\n",
        "!ls\n",
        "!cd drive\n",
        "print(os.getcwd())"
      ],
      "metadata": {
        "colab": {
          "base_uri": "https://localhost:8080/"
        },
        "id": "2w6nL4qpyPaQ",
        "outputId": "e069b8f4-cf07-4f6b-cd4a-80ea8a8a4e01"
      },
      "execution_count": null,
      "outputs": [
        {
          "output_type": "stream",
          "name": "stdout",
          "text": [
            "Drive already mounted at /content/drive; to attempt to forcibly remount, call drive.mount(\"/content/drive\", force_remount=True).\n",
            "drive  sample_data\n",
            "cat: sample_data: Is a directory\n",
            "/content\n"
          ]
        }
      ]
    },
    {
      "cell_type": "code",
      "source": [
        "r = BLIP2Retriever()\n",
        "images_dir = os.getcwd() + \"/drive/MyDrive/data\"\n",
        "save_dir = os.getcwd() + \"/drive/MyDrive/saves\"\n",
        "# r.encode_images(list_files(directory=images_dir),out_dir=save_dir)\n",
        "r.load_encoded_images(save_dir,model_name='BLIP2')\n",
        "\n",
        "\n",
        "ranks_cumulation = [0] * len(r.image_IDs)\n",
        "df = pd.read_csv(images_dir+'/labels.csv')\n",
        "for id,label in zip(df.ID,df.label):\n",
        "    ordered_images = r.compare_to_images(label)\n",
        "    rank = find_rank(ordered_images, id)\n",
        "    ranks_cumulation[rank:] = [x+1 for x in ranks_cumulation[rank:]]\n",
        "    # ranks_cumulation[rank] += 1\n",
        "\n",
        "plt.bar(range(len(ranks_cumulation[:50])),ranks_cumulation[:50])\n",
        "plt.show()"
      ],
      "metadata": {
        "colab": {
          "base_uri": "https://localhost:8080/",
          "height": 430
        },
        "id": "1puN_Ji-s1Dl",
        "outputId": "bcbfaeb6-4e71-4a58-b21c-97b4d3c3427c"
      },
      "execution_count": null,
      "outputs": [
        {
          "output_type": "display_data",
          "data": {
            "text/plain": [
              "<Figure size 640x480 with 1 Axes>"
            ],
            "image/png": "[encoded data removed]"
          },
          "metadata": {}
        }
      ]
    }
  ]
}